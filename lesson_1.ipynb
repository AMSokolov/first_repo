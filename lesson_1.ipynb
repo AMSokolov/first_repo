{
 "cells": [
  {
   "cell_type": "markdown",
   "id": "c39682c7",
   "metadata": {},
   "source": [
    "Посмотреть документацию к API GitHub, разобраться как вывести список репозиториев для конкретного пользователя, сохранить JSON-вывод в файле *.json."
   ]
  },
  {
   "cell_type": "code",
   "execution_count": 6,
   "id": "f626b47d",
   "metadata": {},
   "outputs": [],
   "source": [
    "import requests\n",
    "import json\n",
    "from pprint import pprint\n",
    "username = \"AMSokolov\"\n",
    "url = f\"https://api.github.com/users/{username}\"\n",
    "r = requests.get(f'{url}/repos')\n"
   ]
  },
  {
   "cell_type": "code",
   "execution_count": 16,
   "id": "d5555df7",
   "metadata": {},
   "outputs": [],
   "source": [
    "with open('data.json', 'w', encoding='utf-8') as f:\n",
    "    json.dump(r.json(), f, )"
   ]
  },
  {
   "cell_type": "code",
   "execution_count": 10,
   "id": "c99a2b25",
   "metadata": {
    "scrolled": false
   },
   "outputs": [
    {
     "name": "stdout",
     "output_type": "stream",
     "text": [
      "first_repo\n",
      "project\n",
      "Python\n",
      "second_repo\n"
     ]
    }
   ],
   "source": [
    "for i in r.json():\n",
    "    print(i['name'])"
   ]
  },
  {
   "cell_type": "code",
   "execution_count": 14,
   "id": "740584bb",
   "metadata": {},
   "outputs": [
    {
     "name": "stdout",
     "output_type": "stream",
     "text": [
      "['first_repo : https://api.github.com/repos/AMSokolov/first_repo',\n",
      " 'project : https://api.github.com/repos/AMSokolov/project',\n",
      " 'Python : https://api.github.com/repos/AMSokolov/Python',\n",
      " 'second_repo : https://api.github.com/repos/AMSokolov/second_repo']\n"
     ]
    }
   ],
   "source": [
    "data = []\n",
    "for i in r.json():\n",
    "    data.append(f\"{i['name']} : {i['url']}\")\n",
    "pprint(data)"
   ]
  },
  {
   "cell_type": "code",
   "execution_count": null,
   "id": "9764f6e9",
   "metadata": {},
   "outputs": [],
   "source": []
  },
  {
   "cell_type": "markdown",
   "id": "347942d1",
   "metadata": {},
   "source": [
    "Изучить список открытых API (https://www.programmableweb.com/category/all/apis). \n",
    "Найти среди них любое, требующее авторизацию (любого типа). \n",
    "Выполнить запросы к нему, пройдя авторизацию. Ответ сервера записать в файл.\n",
    "Если нет желания заморачиваться с поиском, возьмите API вконтакте (https://vk.com/dev/first_guide). \n",
    "Сделайте запрос, чтобы получить список всех сообществ на которые вы подписаны."
   ]
  },
  {
   "cell_type": "code",
   "execution_count": null,
   "id": "0e27453b",
   "metadata": {},
   "outputs": [],
   "source": [
    "from pprint import pprint\n",
    "import requests\n",
    "import json"
   ]
  },
  {
   "cell_type": "code",
   "execution_count": null,
   "id": "0c9f9751",
   "metadata": {},
   "outputs": [],
   "source": [
    "my_headers = 'User-Agent': 'Mozilla/5.0 (Windows NT 10.0; Win64; x64) AppleWebKit/537.36 (KHTML, like Gecko) Chrome/97.0.4692.71 Safari/537.36 Edg/97.0.1072.55'\n"
   ]
  },
  {
   "cell_type": "code",
   "execution_count": null,
   "id": "aacd94ba",
   "metadata": {},
   "outputs": [],
   "source": [
    "token = 'xxxxxxxxxxxxxxx'"
   ]
  },
  {
   "cell_type": "code",
   "execution_count": null,
   "id": "fd47bceb",
   "metadata": {},
   "outputs": [],
   "source": [
    "url = 'https://api.vk.com/method/friends.get?fields=nickname&v=5.131&access_token='"
   ]
  },
  {
   "cell_type": "code",
   "execution_count": null,
   "id": "2dc56a0f",
   "metadata": {},
   "outputs": [],
   "source": [
    "response = requests.get(f'{url}{token}')\n",
    "response"
   ]
  },
  {
   "cell_type": "code",
   "execution_count": null,
   "id": "d040fee3",
   "metadata": {},
   "outputs": [],
   "source": [
    "vkk = response.json()\n",
    "pprint(vkk)"
   ]
  },
  {
   "cell_type": "code",
   "execution_count": null,
   "id": "f02b8df0",
   "metadata": {},
   "outputs": [],
   "source": [
    "with open('vkk.json', 'w', encoding='utf-8') as v:\n",
    "    json.dump(vkk, v)"
   ]
  },
  {
   "cell_type": "code",
   "execution_count": null,
   "id": "f094efc1",
   "metadata": {},
   "outputs": [],
   "source": []
  },
  {
   "cell_type": "code",
   "execution_count": null,
   "id": "a085b078",
   "metadata": {},
   "outputs": [],
   "source": []
  },
  {
   "cell_type": "code",
   "execution_count": null,
   "id": "65d0a916",
   "metadata": {},
   "outputs": [],
   "source": []
  },
  {
   "cell_type": "code",
   "execution_count": null,
   "id": "fbfef91c",
   "metadata": {},
   "outputs": [],
   "source": [
    "Вот еще способ"
   ]
  },
  {
   "cell_type": "code",
   "execution_count": 3,
   "id": "8bd04ff9",
   "metadata": {},
   "outputs": [
    {
     "ename": "ModuleNotFoundError",
     "evalue": "No module named 'github'",
     "output_type": "error",
     "traceback": [
      "\u001b[1;31m---------------------------------------------------------------------------\u001b[0m",
      "\u001b[1;31mModuleNotFoundError\u001b[0m                       Traceback (most recent call last)",
      "\u001b[1;32m~\\AppData\\Local\\Temp/ipykernel_9460/2256843721.py\u001b[0m in \u001b[0;36m<module>\u001b[1;34m\u001b[0m\n\u001b[1;32m----> 1\u001b[1;33m \u001b[1;32mfrom\u001b[0m \u001b[0mgithub\u001b[0m \u001b[1;32mimport\u001b[0m \u001b[0mGithub\u001b[0m\u001b[1;33m\u001b[0m\u001b[1;33m\u001b[0m\u001b[0m\n\u001b[0m",
      "\u001b[1;31mModuleNotFoundError\u001b[0m: No module named 'github'"
     ]
    }
   ],
   "source": [
    "from github import Github"
   ]
  },
  {
   "cell_type": "code",
   "execution_count": 8,
   "id": "01ae0730",
   "metadata": {
    "scrolled": true
   },
   "outputs": [
    {
     "name": "stdout",
     "output_type": "stream",
     "text": [
      "Repository(full_name=\"AMSokolov/first_repo\")\n",
      "Repository(full_name=\"AMSokolov/project\")\n",
      "Repository(full_name=\"AMSokolov/Python\")\n",
      "Repository(full_name=\"AMSokolov/second_repo\")\n"
     ]
    }
   ],
   "source": [
    "g = Github()\n",
    "user = g.get_user(username)\n",
    "for repo in user.get_repos():\n",
    "    print(repo)"
   ]
  }
 ],
 "metadata": {
  "kernelspec": {
   "display_name": "Python 3 (ipykernel)",
   "language": "python",
   "name": "python3"
  },
  "language_info": {
   "codemirror_mode": {
    "name": "ipython",
    "version": 3
   },
   "file_extension": ".py",
   "mimetype": "text/x-python",
   "name": "python",
   "nbconvert_exporter": "python",
   "pygments_lexer": "ipython3",
   "version": "3.8.12"
  }
 },
 "nbformat": 4,
 "nbformat_minor": 5
}
