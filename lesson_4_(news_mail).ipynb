{
 "cells": [
  {
   "cell_type": "markdown",
   "id": "27ec29de",
   "metadata": {},
   "source": [
    "Написать приложение, которое собирает основные новости с сайта на выбор news.mail.ru, lenta.ru, yandex-новости. \n",
    "Для парсинга использовать XPath. Структура данных должна содержать:\n",
    "название источника;\n",
    "наименование новости;\n",
    "ссылку на новость;\n",
    "дата публикации.\n",
    "Сложить собранные новости в БД\n",
    "Минимум один сайт, максимум - все три"
   ]
  },
  {
   "cell_type": "code",
   "execution_count": 1,
   "id": "803bc151",
   "metadata": {},
   "outputs": [],
   "source": [
    "import requests\n",
    "from lxml import html\n",
    "from datetime import datetime\n",
    "from pprint import pprint"
   ]
  },
  {
   "cell_type": "code",
   "execution_count": 2,
   "id": "46a236e7",
   "metadata": {},
   "outputs": [],
   "source": [
    "from pymongo import MongoClient"
   ]
  },
  {
   "cell_type": "code",
   "execution_count": 3,
   "id": "4dc9bc92",
   "metadata": {},
   "outputs": [],
   "source": [
    "client = MongoClient('127.0.0.1', 27017)\n",
    "db = client['news_on_mail_ru']\n",
    "news_mail = db.news"
   ]
  },
  {
   "cell_type": "code",
   "execution_count": 4,
   "id": "2f961148",
   "metadata": {},
   "outputs": [],
   "source": [
    "headers = {'User-agent': 'Mozilla/5.0 (Windows NT 5.1) AppleWebKit/537.36 (KHTML, like Gecko) Chrome/41.0.2224.3 Safari/537.36'}"
   ]
  },
  {
   "cell_type": "code",
   "execution_count": 5,
   "id": "9f3e240b",
   "metadata": {},
   "outputs": [],
   "source": [
    "url = 'https://news.mail.ru/'"
   ]
  },
  {
   "cell_type": "code",
   "execution_count": 6,
   "id": "5365b73d",
   "metadata": {},
   "outputs": [],
   "source": [
    "response = requests.get(url, headers=headers).text"
   ]
  },
  {
   "cell_type": "code",
   "execution_count": 7,
   "id": "cbc52558",
   "metadata": {},
   "outputs": [],
   "source": [
    "dom = html.fromstring(response)"
   ]
  },
  {
   "cell_type": "code",
   "execution_count": 8,
   "id": "1bd265bd",
   "metadata": {},
   "outputs": [],
   "source": [
    "items = dom.xpath(\"//div[@data-module='TrackBlocks' and @class='js-module']//a[@class='list__text']/@href\")"
   ]
  },
  {
   "cell_type": "code",
   "execution_count": 9,
   "id": "24fdb124",
   "metadata": {
    "scrolled": true
   },
   "outputs": [
    {
     "name": "stdout",
     "output_type": "stream",
     "text": [
      "Запись    1\n",
      "Запись    2\n",
      "Запись    3\n",
      "Запись    4\n",
      "Запись    5\n",
      "Запись    6\n",
      "Запись    7\n",
      "Запись    8\n"
     ]
    }
   ],
   "source": [
    "n = 0\n",
    "for link in items:\n",
    "    to_base = {}\n",
    "    response_news = requests.get(link, headers=headers).text\n",
    "    dom_news = html.fromstring(response_news)\n",
    "    \n",
    "    source = dom_news.xpath(\"//a[@class='link color_gray breadcrumbs__link']/span[@class='link__text']/text()\")\n",
    "    name = dom_news.xpath(\"//h1/text()\")\n",
    "    \n",
    "    datetime_string = str(dom_news.xpath(\"//span[@class='note__text breadcrumbs__text js-ago']/@datetime\"))\n",
    "    datetime_string_short = datetime_string.split('T')[0][2:12]\n",
    "    \n",
    "    to_base['source'] = source\n",
    "    to_base['datetime'] = datetime_string_short\n",
    "    to_base['link'] = str(link)\n",
    "    to_base['name'] = str(name)\n",
    "    \n",
    "    news_mail.update_one({'link': to_base['link']}, {'$set': to_base}, upsert=True)\n",
    "    n += 1\n",
    "    print('Запись   ', n)\n",
    "    "
   ]
  },
  {
   "cell_type": "code",
   "execution_count": null,
   "id": "25efe4c0",
   "metadata": {},
   "outputs": [],
   "source": []
  },
  {
   "cell_type": "code",
   "execution_count": null,
   "id": "3e6d71f1",
   "metadata": {},
   "outputs": [],
   "source": []
  },
  {
   "cell_type": "code",
   "execution_count": null,
   "id": "240af84f",
   "metadata": {},
   "outputs": [],
   "source": []
  },
  {
   "cell_type": "code",
   "execution_count": null,
   "id": "97903278",
   "metadata": {},
   "outputs": [],
   "source": []
  }
 ],
 "metadata": {
  "kernelspec": {
   "display_name": "Python 3 (ipykernel)",
   "language": "python",
   "name": "python3"
  },
  "language_info": {
   "codemirror_mode": {
    "name": "ipython",
    "version": 3
   },
   "file_extension": ".py",
   "mimetype": "text/x-python",
   "name": "python",
   "nbconvert_exporter": "python",
   "pygments_lexer": "ipython3",
   "version": "3.9.7"
  }
 },
 "nbformat": 4,
 "nbformat_minor": 5
}
